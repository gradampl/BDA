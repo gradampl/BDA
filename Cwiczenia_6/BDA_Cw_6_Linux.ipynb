{
 "cells": [
  {
   "cell_type": "code",
   "execution_count": 1,
   "metadata": {},
   "outputs": [],
   "source": [
    "from pyspark import SparkContext\n",
    "sc=SparkContext()\n",
    "from pyspark.sql import SQLContext\n",
    "sqlc = SQLContext(sc)"
   ]
  },
  {
   "cell_type": "code",
   "execution_count": 2,
   "metadata": {},
   "outputs": [],
   "source": [
    "from pyspark.sql import *\n",
    "na_schema = Row(\"Name\",\"Age\")"
   ]
  },
  {
   "cell_type": "code",
   "execution_count": 3,
   "metadata": {},
   "outputs": [],
   "source": [
    "row1 = na_schema(\"Ankit\", 23)\n",
    "row2 = na_schema(\"Tyler\", 26)\n",
    "row3 = na_schema(\"Preity\", 36)"
   ]
  },
  {
   "cell_type": "code",
   "execution_count": 4,
   "metadata": {},
   "outputs": [
    {
     "data": {
      "text/plain": [
       "pyspark.sql.dataframe.DataFrame"
      ]
     },
     "execution_count": 4,
     "metadata": {},
     "output_type": "execute_result"
    }
   ],
   "source": [
    "na_list = [row1, row2, row3]\n",
    "df_na = sqlc.createDataFrame(na_list)\n",
    "type(df_na)"
   ]
  },
  {
   "cell_type": "code",
   "execution_count": 5,
   "metadata": {},
   "outputs": [
    {
     "name": "stdout",
     "output_type": "stream",
     "text": [
      "+------+---+\n",
      "|  Name|Age|\n",
      "+------+---+\n",
      "| Ankit| 23|\n",
      "| Tyler| 26|\n",
      "|Preity| 36|\n",
      "+------+---+\n",
      "\n"
     ]
    }
   ],
   "source": [
    "df_na.show()"
   ]
  },
  {
   "cell_type": "code",
   "execution_count": 6,
   "metadata": {},
   "outputs": [
    {
     "data": {
      "text/plain": [
       "pyspark.rdd.RDD"
      ]
     },
     "execution_count": 6,
     "metadata": {},
     "output_type": "execute_result"
    }
   ],
   "source": [
    "data = [(\"Ankit\", 23), (\"Tyler\", 26), (\"Preity\", 36)]\n",
    "data_rdd = sc.parallelize(data)\n",
    "type(data_rdd)"
   ]
  },
  {
   "cell_type": "code",
   "execution_count": 7,
   "metadata": {},
   "outputs": [],
   "source": [
    "data_sd = sqlc.createDataFrame(data_rdd)"
   ]
  },
  {
   "cell_type": "code",
   "execution_count": 8,
   "metadata": {},
   "outputs": [
    {
     "name": "stdout",
     "output_type": "stream",
     "text": [
      "+------+---+\n",
      "|    _1| _2|\n",
      "+------+---+\n",
      "| Ankit| 23|\n",
      "| Tyler| 26|\n",
      "|Preity| 36|\n",
      "+------+---+\n",
      "\n"
     ]
    }
   ],
   "source": [
    "data_sd.show()"
   ]
  },
  {
   "cell_type": "code",
   "execution_count": 11,
   "metadata": {},
   "outputs": [
    {
     "data": {
      "text/plain": [
       "pyspark.sql.dataframe.DataFrame"
      ]
     },
     "execution_count": 11,
     "metadata": {},
     "output_type": "execute_result"
    }
   ],
   "source": [
    "df = sqlc.read.format('com.databricks.spark.csv').options(header = 'true', interschema = 'true').load('cars_headers.csv')\n",
    "type(df)"
   ]
  },
  {
   "cell_type": "code",
   "execution_count": 12,
   "metadata": {},
   "outputs": [
    {
     "name": "stdout",
     "output_type": "stream",
     "text": [
      "+---+----+---------+------------+----------+------+------------+----+------+--------------------+\n",
      "|_c0| mpg|cylinders|displacement|horsepower|weight|acceleration|year|origin|                name|\n",
      "+---+----+---------+------------+----------+------+------------+----+------+--------------------+\n",
      "|  0|18.0|        8|       307.0|     130.0|3504.0|        12.0|  70|     1|chevrolet chevell...|\n",
      "|  1|15.0|        8|       350.0|     165.0|3693.0|        11.5|  70|     1|   buick skylark 320|\n",
      "|  2|18.0|        8|       318.0|     150.0|3436.0|        11.0|  70|     1|  plymouth satellite|\n",
      "|  3|16.0|        8|       304.0|     150.0|3433.0|        12.0|  70|     1|       amc rebel sst|\n",
      "|  4|17.0|        8|       302.0|     140.0|3449.0|        10.5|  70|     1|         ford torino|\n",
      "+---+----+---------+------------+----------+------+------------+----+------+--------------------+\n",
      "only showing top 5 rows\n",
      "\n"
     ]
    }
   ],
   "source": [
    "df.show(5)"
   ]
  },
  {
   "cell_type": "code",
   "execution_count": 13,
   "metadata": {},
   "outputs": [
    {
     "data": {
      "text/html": [
       "<div>\n",
       "<style scoped>\n",
       "    .dataframe tbody tr th:only-of-type {\n",
       "        vertical-align: middle;\n",
       "    }\n",
       "\n",
       "    .dataframe tbody tr th {\n",
       "        vertical-align: top;\n",
       "    }\n",
       "\n",
       "    .dataframe thead th {\n",
       "        text-align: right;\n",
       "    }\n",
       "</style>\n",
       "<table border=\"1\" class=\"dataframe\">\n",
       "  <thead>\n",
       "    <tr style=\"text-align: right;\">\n",
       "      <th></th>\n",
       "      <th>_c0</th>\n",
       "      <th>mpg</th>\n",
       "      <th>cylinders</th>\n",
       "      <th>displacement</th>\n",
       "      <th>horsepower</th>\n",
       "      <th>weight</th>\n",
       "      <th>acceleration</th>\n",
       "      <th>year</th>\n",
       "      <th>origin</th>\n",
       "      <th>name</th>\n",
       "    </tr>\n",
       "  </thead>\n",
       "  <tbody>\n",
       "    <tr>\n",
       "      <th>0</th>\n",
       "      <td>0</td>\n",
       "      <td>18.0</td>\n",
       "      <td>8</td>\n",
       "      <td>307.0</td>\n",
       "      <td>130.0</td>\n",
       "      <td>3504.0</td>\n",
       "      <td>12.0</td>\n",
       "      <td>70</td>\n",
       "      <td>1</td>\n",
       "      <td>chevrolet chevelle malibu</td>\n",
       "    </tr>\n",
       "    <tr>\n",
       "      <th>1</th>\n",
       "      <td>1</td>\n",
       "      <td>15.0</td>\n",
       "      <td>8</td>\n",
       "      <td>350.0</td>\n",
       "      <td>165.0</td>\n",
       "      <td>3693.0</td>\n",
       "      <td>11.5</td>\n",
       "      <td>70</td>\n",
       "      <td>1</td>\n",
       "      <td>buick skylark 320</td>\n",
       "    </tr>\n",
       "    <tr>\n",
       "      <th>2</th>\n",
       "      <td>2</td>\n",
       "      <td>18.0</td>\n",
       "      <td>8</td>\n",
       "      <td>318.0</td>\n",
       "      <td>150.0</td>\n",
       "      <td>3436.0</td>\n",
       "      <td>11.0</td>\n",
       "      <td>70</td>\n",
       "      <td>1</td>\n",
       "      <td>plymouth satellite</td>\n",
       "    </tr>\n",
       "    <tr>\n",
       "      <th>3</th>\n",
       "      <td>3</td>\n",
       "      <td>16.0</td>\n",
       "      <td>8</td>\n",
       "      <td>304.0</td>\n",
       "      <td>150.0</td>\n",
       "      <td>3433.0</td>\n",
       "      <td>12.0</td>\n",
       "      <td>70</td>\n",
       "      <td>1</td>\n",
       "      <td>amc rebel sst</td>\n",
       "    </tr>\n",
       "    <tr>\n",
       "      <th>4</th>\n",
       "      <td>4</td>\n",
       "      <td>17.0</td>\n",
       "      <td>8</td>\n",
       "      <td>302.0</td>\n",
       "      <td>140.0</td>\n",
       "      <td>3449.0</td>\n",
       "      <td>10.5</td>\n",
       "      <td>70</td>\n",
       "      <td>1</td>\n",
       "      <td>ford torino</td>\n",
       "    </tr>\n",
       "    <tr>\n",
       "      <th>...</th>\n",
       "      <td>...</td>\n",
       "      <td>...</td>\n",
       "      <td>...</td>\n",
       "      <td>...</td>\n",
       "      <td>...</td>\n",
       "      <td>...</td>\n",
       "      <td>...</td>\n",
       "      <td>...</td>\n",
       "      <td>...</td>\n",
       "      <td>...</td>\n",
       "    </tr>\n",
       "    <tr>\n",
       "      <th>393</th>\n",
       "      <td>393</td>\n",
       "      <td>27.0</td>\n",
       "      <td>4</td>\n",
       "      <td>140.0</td>\n",
       "      <td>86.00</td>\n",
       "      <td>2790.0</td>\n",
       "      <td>15.6</td>\n",
       "      <td>82</td>\n",
       "      <td>1</td>\n",
       "      <td>ford mustang gl</td>\n",
       "    </tr>\n",
       "    <tr>\n",
       "      <th>394</th>\n",
       "      <td>394</td>\n",
       "      <td>44.0</td>\n",
       "      <td>4</td>\n",
       "      <td>97.0</td>\n",
       "      <td>52.00</td>\n",
       "      <td>2130.0</td>\n",
       "      <td>24.6</td>\n",
       "      <td>82</td>\n",
       "      <td>2</td>\n",
       "      <td>vw pickup</td>\n",
       "    </tr>\n",
       "    <tr>\n",
       "      <th>395</th>\n",
       "      <td>395</td>\n",
       "      <td>32.0</td>\n",
       "      <td>4</td>\n",
       "      <td>135.0</td>\n",
       "      <td>84.00</td>\n",
       "      <td>2295.0</td>\n",
       "      <td>11.6</td>\n",
       "      <td>82</td>\n",
       "      <td>1</td>\n",
       "      <td>dodge rampage</td>\n",
       "    </tr>\n",
       "    <tr>\n",
       "      <th>396</th>\n",
       "      <td>396</td>\n",
       "      <td>28.0</td>\n",
       "      <td>4</td>\n",
       "      <td>120.0</td>\n",
       "      <td>79.00</td>\n",
       "      <td>2625.0</td>\n",
       "      <td>18.6</td>\n",
       "      <td>82</td>\n",
       "      <td>1</td>\n",
       "      <td>ford ranger</td>\n",
       "    </tr>\n",
       "    <tr>\n",
       "      <th>397</th>\n",
       "      <td>397</td>\n",
       "      <td>31.0</td>\n",
       "      <td>4</td>\n",
       "      <td>119.0</td>\n",
       "      <td>82.00</td>\n",
       "      <td>2720.0</td>\n",
       "      <td>19.4</td>\n",
       "      <td>82</td>\n",
       "      <td>1</td>\n",
       "      <td>chevy s-10</td>\n",
       "    </tr>\n",
       "  </tbody>\n",
       "</table>\n",
       "<p>398 rows × 10 columns</p>\n",
       "</div>"
      ],
      "text/plain": [
       "     _c0   mpg cylinders displacement horsepower  weight acceleration year  \\\n",
       "0      0  18.0         8        307.0      130.0  3504.0         12.0   70   \n",
       "1      1  15.0         8        350.0      165.0  3693.0         11.5   70   \n",
       "2      2  18.0         8        318.0      150.0  3436.0         11.0   70   \n",
       "3      3  16.0         8        304.0      150.0  3433.0         12.0   70   \n",
       "4      4  17.0         8        302.0      140.0  3449.0         10.5   70   \n",
       "..   ...   ...       ...          ...        ...     ...          ...  ...   \n",
       "393  393  27.0         4        140.0      86.00  2790.0         15.6   82   \n",
       "394  394  44.0         4         97.0      52.00  2130.0         24.6   82   \n",
       "395  395  32.0         4        135.0      84.00  2295.0         11.6   82   \n",
       "396  396  28.0         4        120.0      79.00  2625.0         18.6   82   \n",
       "397  397  31.0         4        119.0      82.00  2720.0         19.4   82   \n",
       "\n",
       "    origin                       name  \n",
       "0        1  chevrolet chevelle malibu  \n",
       "1        1          buick skylark 320  \n",
       "2        1         plymouth satellite  \n",
       "3        1              amc rebel sst  \n",
       "4        1                ford torino  \n",
       "..     ...                        ...  \n",
       "393      1            ford mustang gl  \n",
       "394      2                  vw pickup  \n",
       "395      1              dodge rampage  \n",
       "396      1                ford ranger  \n",
       "397      1                 chevy s-10  \n",
       "\n",
       "[398 rows x 10 columns]"
      ]
     },
     "execution_count": 13,
     "metadata": {},
     "output_type": "execute_result"
    }
   ],
   "source": [
    "import pandas as pd\n",
    "df.toPandas()"
   ]
  },
  {
   "cell_type": "code",
   "execution_count": 14,
   "metadata": {},
   "outputs": [],
   "source": [
    "df.toPandas().to_csv('carsMyPandasCopy.csv')"
   ]
  },
  {
   "cell_type": "code",
   "execution_count": 15,
   "metadata": {},
   "outputs": [],
   "source": [
    "df.write.csv('carsMySparkCopy.csv')"
   ]
  },
  {
   "cell_type": "code",
   "execution_count": 16,
   "metadata": {},
   "outputs": [
    {
     "name": "stdout",
     "output_type": "stream",
     "text": [
      "root\n",
      " |-- _c0: string (nullable = true)\n",
      " |-- mpg: string (nullable = true)\n",
      " |-- cylinders: string (nullable = true)\n",
      " |-- displacement: string (nullable = true)\n",
      " |-- horsepower: string (nullable = true)\n",
      " |-- weight: string (nullable = true)\n",
      " |-- acceleration: string (nullable = true)\n",
      " |-- year: string (nullable = true)\n",
      " |-- origin: string (nullable = true)\n",
      " |-- name: string (nullable = true)\n",
      "\n"
     ]
    }
   ],
   "source": [
    "df.printSchema()"
   ]
  },
  {
   "cell_type": "code",
   "execution_count": 17,
   "metadata": {},
   "outputs": [
    {
     "data": {
      "text/plain": [
       "['_c0',\n",
       " 'mpg',\n",
       " 'cylinders',\n",
       " 'displacement',\n",
       " 'horsepower',\n",
       " 'weight',\n",
       " 'acceleration',\n",
       " 'year',\n",
       " 'origin',\n",
       " 'name']"
      ]
     },
     "execution_count": 17,
     "metadata": {},
     "output_type": "execute_result"
    }
   ],
   "source": [
    "df.schema.names"
   ]
  },
  {
   "cell_type": "code",
   "execution_count": 18,
   "metadata": {},
   "outputs": [
    {
     "data": {
      "text/plain": [
       "398"
      ]
     },
     "execution_count": 18,
     "metadata": {},
     "output_type": "execute_result"
    }
   ],
   "source": [
    "df.count()"
   ]
  },
  {
   "cell_type": "code",
   "execution_count": 19,
   "metadata": {},
   "outputs": [
    {
     "data": {
      "text/plain": [
       "10"
      ]
     },
     "execution_count": 19,
     "metadata": {},
     "output_type": "execute_result"
    }
   ],
   "source": [
    "len(df.columns)"
   ]
  },
  {
   "cell_type": "code",
   "execution_count": 20,
   "metadata": {},
   "outputs": [
    {
     "name": "stdout",
     "output_type": "stream",
     "text": [
      "+---+----+---------+------------+----------+------+------------+----+------+--------------------+\n",
      "|_c0| mpg|cylinders|displacement|horsepower|weight|acceleration|year|origin|                name|\n",
      "+---+----+---------+------------+----------+------+------------+----+------+--------------------+\n",
      "|  0|18.0|        8|       307.0|     130.0|3504.0|        12.0|  70|     1|chevrolet chevell...|\n",
      "|  1|15.0|        8|       350.0|     165.0|3693.0|        11.5|  70|     1|   buick skylark 320|\n",
      "|  2|18.0|        8|       318.0|     150.0|3436.0|        11.0|  70|     1|  plymouth satellite|\n",
      "|  3|16.0|        8|       304.0|     150.0|3433.0|        12.0|  70|     1|       amc rebel sst|\n",
      "|  4|17.0|        8|       302.0|     140.0|3449.0|        10.5|  70|     1|         ford torino|\n",
      "+---+----+---------+------------+----------+------+------------+----+------+--------------------+\n",
      "only showing top 5 rows\n",
      "\n"
     ]
    }
   ],
   "source": [
    "df.show(5)"
   ]
  },
  {
   "cell_type": "code",
   "execution_count": 22,
   "metadata": {},
   "outputs": [
    {
     "name": "stdout",
     "output_type": "stream",
     "text": [
      "+-------+-----------------+------------------+------------------+------------------+------------------+-----------------+------------------+------------------+------------------+--------------------+\n",
      "|summary|              _c0|               mpg|         cylinders|      displacement|        horsepower|           weight|      acceleration|              year|            origin|                name|\n",
      "+-------+-----------------+------------------+------------------+------------------+------------------+-----------------+------------------+------------------+------------------+--------------------+\n",
      "|  count|              398|               398|               398|               398|               398|              398|               398|               398|               398|                 398|\n",
      "|   mean|            198.5|23.514572864321615| 5.454773869346734|193.42587939698493|104.46938775510205|2970.424623115578|15.568090452261291| 76.01005025125629|1.5728643216080402|                null|\n",
      "| stddev|115.0369505854532| 7.815984312565783|1.7010042445332123|104.26983817119587| 38.49115993282846|846.8417741973268| 2.757688929812676|3.6976266467325862|0.8020548777266148|                null|\n",
      "|    min|                0|              10.0|                 3|             100.0|             100.0|           1613.0|              10.0|                70|                 1|amc ambassador br...|\n",
      "|    max|               99|               9.0|                 8|              98.0|                 ?|           5140.0|               9.5|                82|                 3|    vw rabbit custom|\n",
      "+-------+-----------------+------------------+------------------+------------------+------------------+-----------------+------------------+------------------+------------------+--------------------+\n",
      "\n"
     ]
    }
   ],
   "source": [
    "df.describe().show()"
   ]
  },
  {
   "cell_type": "code",
   "execution_count": 23,
   "metadata": {},
   "outputs": [
    {
     "name": "stdout",
     "output_type": "stream",
     "text": [
      "+-------+------------------+\n",
      "|summary|      acceleration|\n",
      "+-------+------------------+\n",
      "|  count|               398|\n",
      "|   mean|15.568090452261291|\n",
      "| stddev| 2.757688929812676|\n",
      "|    min|              10.0|\n",
      "|    max|               9.5|\n",
      "+-------+------------------+\n",
      "\n"
     ]
    }
   ],
   "source": [
    "df.describe('acceleration').show()"
   ]
  },
  {
   "cell_type": "code",
   "execution_count": 24,
   "metadata": {},
   "outputs": [
    {
     "data": {
      "text/plain": [
       "pyspark.sql.dataframe.DataFrame"
      ]
     },
     "execution_count": 24,
     "metadata": {},
     "output_type": "execute_result"
    }
   ],
   "source": [
    "na_schema1 = Row(\"Name\", \"Subject\", \"Marks\")\n",
    "row_1 = na_schema1(\"Ankit\", \"Science\", 95)\n",
    "row_2 = na_schema1(\"Tyler\", \"Maths\", 87)\n",
    "row_3 = na_schema1(\"Preity\", \"Maths\", 92)\n",
    "na_list1 = [row_1, row_2, row_3]\n",
    "df_na1 = sqlc.createDataFrame(na_list1)\n",
    "type(df_na1)"
   ]
  },
  {
   "cell_type": "code",
   "execution_count": 26,
   "metadata": {},
   "outputs": [
    {
     "name": "stdout",
     "output_type": "stream",
     "text": [
      "+------+-------+-----+\n",
      "|  Name|Subject|Marks|\n",
      "+------+-------+-----+\n",
      "| Ankit|Science|   95|\n",
      "| Tyler|  Maths|   87|\n",
      "|Preity|  Maths|   92|\n",
      "+------+-------+-----+\n",
      "\n"
     ]
    }
   ],
   "source": [
    "df_na1.show()"
   ]
  },
  {
   "cell_type": "code",
   "execution_count": 27,
   "metadata": {},
   "outputs": [
    {
     "name": "stdout",
     "output_type": "stream",
     "text": [
      "root\n",
      " |-- Name: string (nullable = true)\n",
      " |-- Subject: string (nullable = true)\n",
      " |-- Marks: long (nullable = true)\n",
      "\n"
     ]
    }
   ],
   "source": [
    "df_na1.printSchema()"
   ]
  },
  {
   "cell_type": "code",
   "execution_count": 28,
   "metadata": {},
   "outputs": [
    {
     "name": "stdout",
     "output_type": "stream",
     "text": [
      "numbers of rows:  3\n",
      "numbers of columns:  3\n"
     ]
    }
   ],
   "source": [
    "print('numbers of rows: ', str(df_na1.count()))\n",
    "print('numbers of columns: ', str(len(df_na1.columns)))"
   ]
  },
  {
   "cell_type": "code",
   "execution_count": 31,
   "metadata": {},
   "outputs": [
    {
     "name": "stdout",
     "output_type": "stream",
     "text": [
      "+-------+------------------+------------------+\n",
      "|summary|               mpg|         cylinders|\n",
      "+-------+------------------+------------------+\n",
      "|  count|               398|               398|\n",
      "|   mean|23.514572864321615| 5.454773869346734|\n",
      "| stddev| 7.815984312565783|1.7010042445332123|\n",
      "|    min|              10.0|                 3|\n",
      "|    max|               9.0|                 8|\n",
      "+-------+------------------+------------------+\n",
      "\n"
     ]
    }
   ],
   "source": [
    "df.describe([\"mpg\",\"cylinders\"]).show()"
   ]
  },
  {
   "cell_type": "code",
   "execution_count": 32,
   "metadata": {},
   "outputs": [],
   "source": [
    "df_p = df.toPandas()\n",
    "df_p.head(7).to_csv('carsHead.csv')"
   ]
  },
  {
   "cell_type": "code",
   "execution_count": 33,
   "metadata": {},
   "outputs": [],
   "source": [
    "df=df.withColumnRenamed('cylinders', 'cyl')"
   ]
  },
  {
   "cell_type": "code",
   "execution_count": 34,
   "metadata": {},
   "outputs": [
    {
     "name": "stdout",
     "output_type": "stream",
     "text": [
      "+---+----+\n",
      "|cyl| mpg|\n",
      "+---+----+\n",
      "|  8|18.0|\n",
      "|  8|15.0|\n",
      "|  8|18.0|\n",
      "|  8|16.0|\n",
      "|  8|17.0|\n",
      "+---+----+\n",
      "only showing top 5 rows\n",
      "\n"
     ]
    }
   ],
   "source": [
    "df.select('cyl', 'mpg').show(5)"
   ]
  },
  {
   "cell_type": "code",
   "execution_count": 35,
   "metadata": {},
   "outputs": [
    {
     "name": "stdout",
     "output_type": "stream",
     "text": [
      "+---+----+---+------------+----------+------+------------+----+------+--------------------+-----------+\n",
      "|_c0| mpg|cyl|displacement|horsepower|weight|acceleration|year|origin|                name|weight_tons|\n",
      "+---+----+---+------------+----------+------+------------+----+------+--------------------+-----------+\n",
      "|  0|18.0|  8|       307.0|     130.0|3504.0|        12.0|  70|     1|chevrolet chevell...|      3.504|\n",
      "|  1|15.0|  8|       350.0|     165.0|3693.0|        11.5|  70|     1|   buick skylark 320|      3.693|\n",
      "|  2|18.0|  8|       318.0|     150.0|3436.0|        11.0|  70|     1|  plymouth satellite|      3.436|\n",
      "|  3|16.0|  8|       304.0|     150.0|3433.0|        12.0|  70|     1|       amc rebel sst|      3.433|\n",
      "|  4|17.0|  8|       302.0|     140.0|3449.0|        10.5|  70|     1|         ford torino|      3.449|\n",
      "+---+----+---+------------+----------+------+------------+----+------+--------------------+-----------+\n",
      "only showing top 5 rows\n",
      "\n"
     ]
    }
   ],
   "source": [
    "df = df.withColumn('weight_tons', df['weight']/1000.0)\n",
    "df.show(5)"
   ]
  },
  {
   "cell_type": "code",
   "execution_count": 36,
   "metadata": {},
   "outputs": [
    {
     "name": "stdout",
     "output_type": "stream",
     "text": [
      "+---+----+---+------------+----------+------+------------+----+------+--------------------+\n",
      "|_c0| mpg|cyl|displacement|horsepower|weight|acceleration|year|origin|                name|\n",
      "+---+----+---+------------+----------+------+------------+----+------+--------------------+\n",
      "|  0|18.0|  8|       307.0|     130.0|3504.0|        12.0|  70|     1|chevrolet chevell...|\n",
      "|  1|15.0|  8|       350.0|     165.0|3693.0|        11.5|  70|     1|   buick skylark 320|\n",
      "|  2|18.0|  8|       318.0|     150.0|3436.0|        11.0|  70|     1|  plymouth satellite|\n",
      "|  3|16.0|  8|       304.0|     150.0|3433.0|        12.0|  70|     1|       amc rebel sst|\n",
      "|  4|17.0|  8|       302.0|     140.0|3449.0|        10.5|  70|     1|         ford torino|\n",
      "+---+----+---+------------+----------+------+------------+----+------+--------------------+\n",
      "only showing top 5 rows\n",
      "\n"
     ]
    }
   ],
   "source": [
    "df=df.drop('weight_tons')\n",
    "df.show(5)"
   ]
  },
  {
   "cell_type": "code",
   "execution_count": 38,
   "metadata": {},
   "outputs": [
    {
     "name": "stdout",
     "output_type": "stream",
     "text": [
      "+---+\n",
      "|cyl|\n",
      "+---+\n",
      "|  3|\n",
      "|  8|\n",
      "|  5|\n",
      "|  6|\n",
      "|  4|\n",
      "+---+\n",
      "\n"
     ]
    }
   ],
   "source": [
    "df.select('cyl').distinct().show()"
   ]
  },
  {
   "cell_type": "code",
   "execution_count": 39,
   "metadata": {},
   "outputs": [
    {
     "data": {
      "text/plain": [
       "5"
      ]
     },
     "execution_count": 39,
     "metadata": {},
     "output_type": "execute_result"
    }
   ],
   "source": [
    "df.select('cyl').distinct().count()"
   ]
  },
  {
   "cell_type": "code",
   "execution_count": 40,
   "metadata": {},
   "outputs": [
    {
     "name": "stdout",
     "output_type": "stream",
     "text": [
      "+---+\n",
      "|cyl|\n",
      "+---+\n",
      "|  3|\n",
      "|  8|\n",
      "|  5|\n",
      "|  6|\n",
      "|  4|\n",
      "+---+\n",
      "\n"
     ]
    }
   ],
   "source": [
    "df.select('cyl').dropDuplicates().show()"
   ]
  },
  {
   "cell_type": "code",
   "execution_count": 44,
   "metadata": {},
   "outputs": [
    {
     "name": "stdout",
     "output_type": "stream",
     "text": [
      "+---+----+---+------------+----------+------+------------+----+------+--------------------+\n",
      "|_c0| mpg|cyl|displacement|horsepower|weight|acceleration|year|origin|                name|\n",
      "+---+----+---+------------+----------+------+------------+----+------+--------------------+\n",
      "| 32|25.0|  4|        98.0|         ?|2046.0|        19.0|  71|     1|          ford pinto|\n",
      "|177|23.0|  4|       115.0|     95.00|2694.0|        15.0|  75|     2|          audi 100ls|\n",
      "|187|17.5|  8|       305.0|     140.0|4215.0|        13.0|  76|     1|chevrolet chevell...|\n",
      "| 51|30.0|  4|        79.0|     70.00|2074.0|        19.5|  71|     2|         peugeot 304|\n",
      "|195|29.0|  4|        85.0|     52.00|2035.0|        22.2|  76|     1|  chevrolet chevette|\n",
      "| 49|23.0|  4|       122.0|     86.00|2220.0|        14.0|  71|     1|  mercury capri 2000|\n",
      "|390|32.0|  4|       144.0|     96.00|2665.0|        13.9|  82|     3|    toyota celica gt|\n",
      "| 16|18.0|  6|       199.0|     97.00|2774.0|        15.5|  70|     1|          amc hornet|\n",
      "|146|28.0|  4|        90.0|     75.00|2125.0|        14.5|  74|     1|          dodge colt|\n",
      "|274|20.3|  5|       131.0|     103.0|2830.0|        15.9|  78|     2|           audi 5000|\n",
      "|123|20.0|  6|       156.0|     122.0|2807.0|        13.5|  73|     3|      toyota mark ii|\n",
      "|207|20.0|  4|       130.0|     102.0|3150.0|        15.7|  76|     2|           volvo 245|\n",
      "|328|30.0|  4|       146.0|     67.00|3250.0|        21.8|  80|     2|  mercedes-benz 240d|\n",
      "| 45|18.0|  6|       258.0|     110.0|2962.0|        13.5|  71|     1|amc hornet sporta...|\n",
      "|327|36.4|  5|       121.0|     67.00|2950.0|        19.9|  80|     2| audi 5000s (diesel)|\n",
      "| 40|14.0|  8|       351.0|     153.0|4154.0|        13.5|  71|     1|    ford galaxie 500|\n",
      "| 33|19.0|  6|       232.0|     100.0|2634.0|        13.0|  71|     1|         amc gremlin|\n",
      "| 17|21.0|  6|       200.0|     85.00|2587.0|        16.0|  70|     1|       ford maverick|\n",
      "|113|21.0|  6|       155.0|     107.0|2472.0|        14.0|  73|     1|    mercury capri v6|\n",
      "|354|34.5|  4|       100.0|         ?|2320.0|        15.8|  81|     2|         renault 18i|\n",
      "+---+----+---+------------+----------+------+------------+----+------+--------------------+\n",
      "only showing top 20 rows\n",
      "\n"
     ]
    }
   ],
   "source": [
    "df.dropDuplicates(['cyl','displacement']).show()"
   ]
  },
  {
   "cell_type": "code",
   "execution_count": 45,
   "metadata": {},
   "outputs": [
    {
     "name": "stdout",
     "output_type": "stream",
     "text": [
      "+---+----+---+------------+----------+------+------------+----+------+---------------+\n",
      "|_c0| mpg|cyl|displacement|horsepower|weight|acceleration|year|origin|           name|\n",
      "+---+----+---+------------+----------+------+------------+----+------+---------------+\n",
      "| 71|19.0|  3|        70.0|     97.00|2330.0|        13.5|  72|     3|mazda rx2 coupe|\n",
      "|111|18.0|  3|        70.0|     90.00|2124.0|        13.5|  73|     3|      maxda rx3|\n",
      "|243|21.5|  3|        80.0|     110.0|2720.0|        13.5|  77|     3|     mazda rx-4|\n",
      "|334|23.7|  3|        70.0|     100.0|2420.0|        12.5|  80|     3|  mazda rx-7 gs|\n",
      "+---+----+---+------------+----------+------+------------+----+------+---------------+\n",
      "\n"
     ]
    }
   ],
   "source": [
    "df.filter(df.cyl==3).show()"
   ]
  },
  {
   "cell_type": "code",
   "execution_count": 46,
   "metadata": {},
   "outputs": [
    {
     "name": "stdout",
     "output_type": "stream",
     "text": [
      "+---+----+---+------------+----------+------+------------+----+------+--------------------+\n",
      "|_c0| mpg|cyl|displacement|horsepower|weight|acceleration|year|origin|                name|\n",
      "+---+----+---+------------+----------+------+------------+----+------+--------------------+\n",
      "|  6|14.0|  8|       454.0|     220.0|4354.0|         9.0|  70|     1|    chevrolet impala|\n",
      "|  7|14.0|  8|       440.0|     215.0|4312.0|         8.5|  70|     1|   plymouth fury iii|\n",
      "|  8|14.0|  8|       455.0|     225.0|4425.0|        10.0|  70|     1|    pontiac catalina|\n",
      "| 13|14.0|  8|       455.0|     225.0|3086.0|        10.0|  70|     1|buick estate wago...|\n",
      "| 25|10.0|  8|       360.0|     215.0|4615.0|        14.0|  70|     1|           ford f250|\n",
      "| 27|11.0|  8|       318.0|     210.0|4382.0|        13.5|  70|     1|          dodge d200|\n",
      "| 67|11.0|  8|       429.0|     208.0|4633.0|        11.0|  72|     1|     mercury marquis|\n",
      "| 94|13.0|  8|       440.0|     215.0|4735.0|        11.0|  73|     1|chrysler new york...|\n",
      "| 95|12.0|  8|       455.0|     225.0|4951.0|        11.0|  73|     1|buick electra 225...|\n",
      "|116|16.0|  8|       400.0|     230.0|4278.0|         9.5|  73|     1|  pontiac grand prix|\n",
      "+---+----+---+------------+----------+------+------------+----+------+--------------------+\n",
      "\n"
     ]
    }
   ],
   "source": [
    "df.filter((df.cyl==8) & (df.horsepower > 200)).show()"
   ]
  },
  {
   "cell_type": "code",
   "execution_count": 47,
   "metadata": {},
   "outputs": [
    {
     "name": "stdout",
     "output_type": "stream",
     "text": [
      "+---+----+---+------------+----------+------+------------+----+------+--------------------+\n",
      "|_c0| mpg|cyl|displacement|horsepower|weight|acceleration|year|origin|                name|\n",
      "+---+----+---+------------+----------+------+------------+----+------+--------------------+\n",
      "|243|21.5|  3|        80.0|     110.0|2720.0|        13.5|  77|     3|          mazda rx-4|\n",
      "|334|23.7|  3|        70.0|     100.0|2420.0|        12.5|  80|     3|       mazda rx-7 gs|\n",
      "| 71|19.0|  3|        70.0|     97.00|2330.0|        13.5|  72|     3|     mazda rx2 coupe|\n",
      "|111|18.0|  3|        70.0|     90.00|2124.0|        13.5|  73|     3|           maxda rx3|\n",
      "|108|20.0|  4|        97.0|     88.00|2279.0|        19.0|  73|     3|       toyota carina|\n",
      "| 55|27.0|  4|        97.0|     60.00|1834.0|        19.0|  71|     2|volkswagen model 111|\n",
      "| 54|35.0|  4|        72.0|     69.00|1613.0|        18.0|  71|     3|         datsun 1200|\n",
      "| 32|25.0|  4|        98.0|         ?|2046.0|        19.0|  71|     1|          ford pinto|\n",
      "| 56|26.0|  4|        91.0|     70.00|1955.0|        20.5|  71|     1|    plymouth cricket|\n",
      "| 57|24.0|  4|       113.0|     95.00|2278.0|        15.5|  72|     3|toyota corona har...|\n",
      "| 53|31.0|  4|        71.0|     65.00|1773.0|        19.0|  71|     3| toyota corolla 1200|\n",
      "| 59|23.0|  4|        97.0|     54.00|2254.0|        23.5|  72|     2|   volkswagen type 3|\n",
      "| 60|20.0|  4|       140.0|     90.00|2408.0|        19.5|  72|     1|      chevrolet vega|\n",
      "| 61|21.0|  4|       122.0|     86.00|2226.0|        16.5|  72|     1| ford pinto runabout|\n",
      "| 19|26.0|  4|        97.0|     46.00|1835.0|        20.5|  70|     2|volkswagen 1131 d...|\n",
      "| 23|26.0|  4|       121.0|     113.0|2234.0|        12.5|  70|     2|            bmw 2002|\n",
      "| 58|25.0|  4|        97.5|     80.00|2126.0|        17.0|  72|     1|  dodge colt hardtop|\n",
      "| 30|28.0|  4|       140.0|     90.00|2264.0|        15.5|  71|     1| chevrolet vega 2300|\n",
      "| 51|30.0|  4|        79.0|     70.00|2074.0|        19.5|  71|     2|         peugeot 304|\n",
      "| 46|22.0|  4|       140.0|     72.00|2408.0|        19.0|  71|     1| chevrolet vega (sw)|\n",
      "+---+----+---+------------+----------+------+------------+----+------+--------------------+\n",
      "only showing top 20 rows\n",
      "\n"
     ]
    }
   ],
   "source": [
    "df.orderBy(df.cyl).show()"
   ]
  },
  {
   "cell_type": "code",
   "execution_count": 48,
   "metadata": {},
   "outputs": [
    {
     "name": "stdout",
     "output_type": "stream",
     "text": [
      "+---+----+---+------------+----------+------+------------+----+------+--------------------+\n",
      "|_c0| mpg|cyl|displacement|horsepower|weight|acceleration|year|origin|                name|\n",
      "+---+----+---+------------+----------+------+------------+----+------+--------------------+\n",
      "| 13|14.0|  8|       455.0|     225.0|3086.0|        10.0|  70|     1|buick estate wago...|\n",
      "| 44|13.0|  8|       400.0|     175.0|5140.0|        12.0|  71|     1| pontiac safari (sw)|\n",
      "| 62|13.0|  8|       350.0|     165.0|4274.0|        12.0|  72|     1|    chevrolet impala|\n",
      "|  1|15.0|  8|       350.0|     165.0|3693.0|        11.5|  70|     1|   buick skylark 320|\n",
      "| 25|10.0|  8|       360.0|     215.0|4615.0|        14.0|  70|     1|           ford f250|\n",
      "|  3|16.0|  8|       304.0|     150.0|3433.0|        12.0|  70|     1|       amc rebel sst|\n",
      "| 26|10.0|  8|       307.0|     200.0|4376.0|        15.0|  70|     1|           chevy c20|\n",
      "|  5|15.0|  8|       429.0|     198.0|4341.0|        10.0|  70|     1|    ford galaxie 500|\n",
      "| 27|11.0|  8|       318.0|     210.0|4382.0|        13.5|  70|     1|          dodge d200|\n",
      "|  7|14.0|  8|       440.0|     215.0|4312.0|         8.5|  70|     1|   plymouth fury iii|\n",
      "| 28| 9.0|  8|       304.0|     193.0|4732.0|        18.5|  70|     1|            hi 1200d|\n",
      "|  9|15.0|  8|       390.0|     190.0|3850.0|         8.5|  70|     1|  amc ambassador dpl|\n",
      "| 38|14.0|  8|       350.0|     165.0|4209.0|        12.0|  71|     1|    chevrolet impala|\n",
      "| 11|14.0|  8|       340.0|     160.0|3609.0|         8.0|  70|     1|  plymouth 'cuda 340|\n",
      "| 39|14.0|  8|       400.0|     175.0|4464.0|        11.5|  71|     1|pontiac catalina ...|\n",
      "|  0|18.0|  8|       307.0|     130.0|3504.0|        12.0|  70|     1|chevrolet chevell...|\n",
      "| 40|14.0|  8|       351.0|     153.0|4154.0|        13.5|  71|     1|    ford galaxie 500|\n",
      "|  4|17.0|  8|       302.0|     140.0|3449.0|        10.5|  70|     1|         ford torino|\n",
      "| 41|14.0|  8|       318.0|     150.0|4096.0|        13.0|  71|     1|   plymouth fury iii|\n",
      "|  8|14.0|  8|       455.0|     225.0|4425.0|        10.0|  70|     1|    pontiac catalina|\n",
      "+---+----+---+------------+----------+------+------------+----+------+--------------------+\n",
      "only showing top 20 rows\n",
      "\n"
     ]
    }
   ],
   "source": [
    "df.orderBy(df.cyl.desc()).show()"
   ]
  },
  {
   "cell_type": "code",
   "execution_count": 49,
   "metadata": {
    "scrolled": true
   },
   "outputs": [
    {
     "name": "stdout",
     "output_type": "stream",
     "text": [
      "+---+------------------+\n",
      "|cyl|   avg(horsepower)|\n",
      "+---+------------------+\n",
      "|  3|             99.25|\n",
      "|  8| 158.3009708737864|\n",
      "|  5| 82.33333333333333|\n",
      "|  6|101.50602409638554|\n",
      "|  4| 78.28140703517587|\n",
      "+---+------------------+\n",
      "\n"
     ]
    }
   ],
   "source": [
    "df.groupBy(df.cyl).agg({'horsepower' : 'mean'}).show()"
   ]
  },
  {
   "cell_type": "code",
   "execution_count": 50,
   "metadata": {},
   "outputs": [
    {
     "name": "stdout",
     "output_type": "stream",
     "text": [
      "+---+-----+\n",
      "|cyl|count|\n",
      "+---+-----+\n",
      "|  3|    4|\n",
      "|  8|  103|\n",
      "|  5|    3|\n",
      "|  6|   84|\n",
      "|  4|  204|\n",
      "+---+-----+\n",
      "\n"
     ]
    }
   ],
   "source": [
    "df.groupBy(df.cyl).count().show()"
   ]
  },
  {
   "cell_type": "code",
   "execution_count": 51,
   "metadata": {},
   "outputs": [
    {
     "data": {
      "text/plain": [
       "['row_new',\n",
       " 'mpg_new',\n",
       " 'cyl_new',\n",
       " 'disp_new',\n",
       " 'hp_new',\n",
       " 'weight',\n",
       " 'acceleration',\n",
       " 'year',\n",
       " 'origin',\n",
       " 'name']"
      ]
     },
     "execution_count": 51,
     "metadata": {},
     "output_type": "execute_result"
    }
   ],
   "source": [
    "# Rename any five columns of the DataFrame.\n",
    "\n",
    "data1 = df\n",
    "new_names = ['row_new', 'mpg_new', 'cyl_new', 'disp_new', 'hp_new']\n",
    "\n",
    "for i,z in zip(data1.columns[0:5],new_names):\n",
    "    data1=data1.withColumnRenamed(str(i),str(z))\n",
    "data1.columns"
   ]
  },
  {
   "cell_type": "code",
   "execution_count": 52,
   "metadata": {},
   "outputs": [
    {
     "data": {
      "text/plain": [
       "['row_new', 'mpg_new', 'cyl_new', 'disp_new', 'hp_new']"
      ]
     },
     "execution_count": 52,
     "metadata": {},
     "output_type": "execute_result"
    }
   ],
   "source": [
    "data1.columns[0:5]"
   ]
  },
  {
   "cell_type": "code",
   "execution_count": 58,
   "metadata": {},
   "outputs": [
    {
     "name": "stdout",
     "output_type": "stream",
     "text": [
      "+---+----+----------+\n",
      "|cyl| mpg|horsepower|\n",
      "+---+----+----------+\n",
      "|  8|18.0|     130.0|\n",
      "|  8|15.0|     165.0|\n",
      "|  8|18.0|     150.0|\n",
      "|  8|16.0|     150.0|\n",
      "|  8|17.0|     140.0|\n",
      "+---+----+----------+\n",
      "only showing top 5 rows\n",
      "\n"
     ]
    }
   ],
   "source": [
    "# Select two numeric and one categorical column from the DataFrame.\n",
    "\n",
    "data2 = df.select(['cyl','mpg','horsepower'])\n",
    "data2.show(5)"
   ]
  },
  {
   "cell_type": "code",
   "execution_count": 59,
   "metadata": {},
   "outputs": [
    {
     "data": {
      "text/plain": [
       "5"
      ]
     },
     "execution_count": 59,
     "metadata": {},
     "output_type": "execute_result"
    }
   ],
   "source": [
    "# Count the number of distinct categories in the categorical variable.\n",
    "\n",
    "data2.select('cyl').distinct().count()"
   ]
  },
  {
   "cell_type": "code",
   "execution_count": 60,
   "metadata": {},
   "outputs": [
    {
     "name": "stdout",
     "output_type": "stream",
     "text": [
      "+---+----+----------+------+----------+\n",
      "|cyl| mpg|horsepower|colSum|colProduct|\n",
      "+---+----+----------+------+----------+\n",
      "|  8|18.0|     130.0| 148.0|    2340.0|\n",
      "|  8|15.0|     165.0| 180.0|    2475.0|\n",
      "|  8|18.0|     150.0| 168.0|    2700.0|\n",
      "|  8|16.0|     150.0| 166.0|    2400.0|\n",
      "|  8|17.0|     140.0| 157.0|    2380.0|\n",
      "+---+----+----------+------+----------+\n",
      "only showing top 5 rows\n",
      "\n"
     ]
    }
   ],
   "source": [
    "# Create two new columns in the DataFrame by summing up and multiplying together the two\n",
    "# numerical columns.\n",
    "\n",
    "data2 = data2.withColumn('colSum',df.mpg + df.horsepower)\n",
    "data2 = data2.withColumn('colProduct',df.mpg * df.horsepower)\n",
    "data2.show(5)"
   ]
  },
  {
   "cell_type": "code",
   "execution_count": 61,
   "metadata": {},
   "outputs": [
    {
     "name": "stdout",
     "output_type": "stream",
     "text": [
      "+---+------+----------+\n",
      "|cyl|colSum|colProduct|\n",
      "+---+------+----------+\n",
      "|  8| 148.0|    2340.0|\n",
      "|  8| 180.0|    2475.0|\n",
      "|  8| 168.0|    2700.0|\n",
      "|  8| 166.0|    2400.0|\n",
      "|  8| 157.0|    2380.0|\n",
      "+---+------+----------+\n",
      "only showing top 5 rows\n",
      "\n"
     ]
    }
   ],
   "source": [
    "# Drop both the original numerical columns.\n",
    "\n",
    "data2 = data2.drop('mpg','horsepower')\n",
    "data2.show(5)"
   ]
  },
  {
   "cell_type": "code",
   "execution_count": 62,
   "metadata": {},
   "outputs": [
    {
     "name": "stdout",
     "output_type": "stream",
     "text": [
      "+---+------+----------+\n",
      "|cyl|colSum|colProduct|\n",
      "+---+------+----------+\n",
      "|  3| 116.0|    1843.0|\n",
      "|  3| 123.7|    2370.0|\n",
      "|  3| 108.0|    1620.0|\n",
      "|  3| 131.5|    2365.0|\n",
      "|  4| 112.0|    2175.0|\n",
      "+---+------+----------+\n",
      "only showing top 5 rows\n",
      "\n"
     ]
    }
   ],
   "source": [
    "# Sort the data by the categorical column.\n",
    "\n",
    "data2=data2.orderBy('cyl')\n",
    "data2.show(5)"
   ]
  },
  {
   "cell_type": "code",
   "execution_count": 63,
   "metadata": {},
   "outputs": [
    {
     "name": "stdout",
     "output_type": "stream",
     "text": [
      "+---+------------------+\n",
      "|cyl|       avg(colSum)|\n",
      "+---+------------------+\n",
      "|  3|             119.8|\n",
      "|  4| 107.5653266331658|\n",
      "|  5|             109.7|\n",
      "|  6|121.47951807228917|\n",
      "|  8|173.26407766990295|\n",
      "+---+------------------+\n",
      "\n"
     ]
    }
   ],
   "source": [
    "# Calculate the mean of the summation column for each distinct category in the categorical\n",
    "# variable.\n",
    "\n",
    "data2.groupBy('cyl').agg({'colSum' : 'mean'}).show()"
   ]
  },
  {
   "cell_type": "code",
   "execution_count": 64,
   "metadata": {},
   "outputs": [
    {
     "name": "stdout",
     "output_type": "stream",
     "text": [
      "+---+------+----------+\n",
      "|cyl|colSum|colProduct|\n",
      "+---+------+----------+\n",
      "|  3| 131.5|    2365.0|\n",
      "|  4| 129.0|    3404.0|\n",
      "|  4| 140.0|    2875.0|\n",
      "|  4| 131.5|    2365.0|\n",
      "|  4| 139.0|    2938.0|\n",
      "+---+------+----------+\n",
      "only showing top 5 rows\n",
      "\n"
     ]
    }
   ],
   "source": [
    "# Filter the rows with values greater than the mean of all the mean values calculated in step 7.\n",
    "\n",
    "cyl_avg = data2.groupBy('cyl').agg({'colSum' : 'mean'})\n",
    "avg = cyl_avg.agg({'avg(colSum)' : 'mean'}).collect()[0][0]\n",
    "data2 = data2.filter(data2.colSum > avg)\n",
    "data2.show(5)"
   ]
  },
  {
   "cell_type": "code",
   "execution_count": 65,
   "metadata": {},
   "outputs": [
    {
     "data": {
      "text/plain": [
       "107.5653266331658"
      ]
     },
     "execution_count": 65,
     "metadata": {},
     "output_type": "execute_result"
    }
   ],
   "source": [
    "cyl_avg.collect()[1][1]"
   ]
  },
  {
   "cell_type": "code",
   "execution_count": 66,
   "metadata": {},
   "outputs": [
    {
     "data": {
      "text/plain": [
       "141"
      ]
     },
     "execution_count": 66,
     "metadata": {},
     "output_type": "execute_result"
    }
   ],
   "source": [
    "data2.count()"
   ]
  },
  {
   "cell_type": "code",
   "execution_count": 67,
   "metadata": {},
   "outputs": [
    {
     "data": {
      "text/plain": [
       "116"
      ]
     },
     "execution_count": 67,
     "metadata": {},
     "output_type": "execute_result"
    }
   ],
   "source": [
    "# De-duplicate the resultant DataFrame to make sure it has only unique records.\n",
    "\n",
    "data2=data2.dropDuplicates()\n",
    "data2.count()"
   ]
  },
  {
   "cell_type": "code",
   "execution_count": null,
   "metadata": {},
   "outputs": [],
   "source": []
  }
 ],
 "metadata": {
  "kernelspec": {
   "display_name": "Python 3",
   "language": "python",
   "name": "python3"
  },
  "language_info": {
   "codemirror_mode": {
    "name": "ipython",
    "version": 3
   },
   "file_extension": ".py",
   "mimetype": "text/x-python",
   "name": "python",
   "nbconvert_exporter": "python",
   "pygments_lexer": "ipython3",
   "version": "3.7.6"
  }
 },
 "nbformat": 4,
 "nbformat_minor": 4
}
