{
 "cells": [
  {
   "cell_type": "code",
   "execution_count": 1,
   "metadata": {},
   "outputs": [],
   "source": [
    "from pyspark.sql import SparkSession\n",
    "spark = SparkSession.builder.appName(\"Python Spark Session\").getOrCreate()"
   ]
  },
  {
   "cell_type": "code",
   "execution_count": 2,
   "metadata": {
    "scrolled": true
   },
   "outputs": [
    {
     "name": "stdout",
     "output_type": "stream",
     "text": [
      "+-----+---+------+\n",
      "| name|age|height|\n",
      "+-----+---+------+\n",
      "| Adam| 14|  12.8|\n",
      "|Sonia| 12|  45.9|\n",
      "|Fiona| 34|  9.78|\n",
      "+-----+---+------+\n",
      "\n"
     ]
    }
   ],
   "source": [
    "df=spark.read.csv('people.csv', header=True)\n",
    "df.show()"
   ]
  },
  {
   "cell_type": "code",
   "execution_count": 3,
   "metadata": {},
   "outputs": [
    {
     "name": "stdout",
     "output_type": "stream",
     "text": [
      "+---+\n",
      "|age|\n",
      "+---+\n",
      "| 14|\n",
      "| 12|\n",
      "| 34|\n",
      "+---+\n",
      "\n"
     ]
    }
   ],
   "source": [
    "df.select(df['age']).show()"
   ]
  },
  {
   "cell_type": "code",
   "execution_count": 4,
   "metadata": {},
   "outputs": [
    {
     "name": "stdout",
     "output_type": "stream",
     "text": [
      "+---+-----+\n",
      "|age| name|\n",
      "+---+-----+\n",
      "| 14| Adam|\n",
      "| 12|Sonia|\n",
      "| 34|Fiona|\n",
      "+---+-----+\n",
      "\n"
     ]
    }
   ],
   "source": [
    "df.select(df['age'],df['name']).show()"
   ]
  },
  {
   "cell_type": "code",
   "execution_count": 5,
   "metadata": {},
   "outputs": [],
   "source": [
    "# df.write.csv(\"results12.csv\", header = True)"
   ]
  },
  {
   "cell_type": "code",
   "execution_count": 6,
   "metadata": {},
   "outputs": [],
   "source": [
    "df=spark.read.csv('results12.csv', header = True)"
   ]
  },
  {
   "cell_type": "code",
   "execution_count": 7,
   "metadata": {},
   "outputs": [
    {
     "name": "stdout",
     "output_type": "stream",
     "text": [
      "+-----+---+------+\n",
      "| name|age|height|\n",
      "+-----+---+------+\n",
      "| Adam| 14|  12.8|\n",
      "|Sonia| 12|  45.9|\n",
      "|Fiona| 34|  9.78|\n",
      "+-----+---+------+\n",
      "\n"
     ]
    }
   ],
   "source": [
    "df.show()"
   ]
  },
  {
   "cell_type": "code",
   "execution_count": 8,
   "metadata": {},
   "outputs": [
    {
     "data": {
      "text/html": [
       "<div>\n",
       "<style scoped>\n",
       "    .dataframe tbody tr th:only-of-type {\n",
       "        vertical-align: middle;\n",
       "    }\n",
       "\n",
       "    .dataframe tbody tr th {\n",
       "        vertical-align: top;\n",
       "    }\n",
       "\n",
       "    .dataframe thead th {\n",
       "        text-align: right;\n",
       "    }\n",
       "</style>\n",
       "<table border=\"1\" class=\"dataframe\">\n",
       "  <thead>\n",
       "    <tr style=\"text-align: right;\">\n",
       "      <th></th>\n",
       "      <th>mpg</th>\n",
       "      <th>cylinders</th>\n",
       "      <th>displacement</th>\n",
       "      <th>horsepower</th>\n",
       "      <th>weight</th>\n",
       "      <th>acceleration</th>\n",
       "      <th>year</th>\n",
       "      <th>origin</th>\n",
       "      <th>name</th>\n",
       "    </tr>\n",
       "  </thead>\n",
       "  <tbody>\n",
       "    <tr>\n",
       "      <th>0</th>\n",
       "      <td>18.0</td>\n",
       "      <td>8</td>\n",
       "      <td>307.0</td>\n",
       "      <td>130.0</td>\n",
       "      <td>3504.0</td>\n",
       "      <td>12.0</td>\n",
       "      <td>70</td>\n",
       "      <td>1</td>\n",
       "      <td>chevrolet chevelle malibu</td>\n",
       "    </tr>\n",
       "    <tr>\n",
       "      <th>1</th>\n",
       "      <td>15.0</td>\n",
       "      <td>8</td>\n",
       "      <td>350.0</td>\n",
       "      <td>165.0</td>\n",
       "      <td>3693.0</td>\n",
       "      <td>11.5</td>\n",
       "      <td>70</td>\n",
       "      <td>1</td>\n",
       "      <td>buick skylark 320</td>\n",
       "    </tr>\n",
       "    <tr>\n",
       "      <th>2</th>\n",
       "      <td>18.0</td>\n",
       "      <td>8</td>\n",
       "      <td>318.0</td>\n",
       "      <td>150.0</td>\n",
       "      <td>3436.0</td>\n",
       "      <td>11.0</td>\n",
       "      <td>70</td>\n",
       "      <td>1</td>\n",
       "      <td>plymouth satellite</td>\n",
       "    </tr>\n",
       "    <tr>\n",
       "      <th>3</th>\n",
       "      <td>16.0</td>\n",
       "      <td>8</td>\n",
       "      <td>304.0</td>\n",
       "      <td>150.0</td>\n",
       "      <td>3433.0</td>\n",
       "      <td>12.0</td>\n",
       "      <td>70</td>\n",
       "      <td>1</td>\n",
       "      <td>amc rebel sst</td>\n",
       "    </tr>\n",
       "    <tr>\n",
       "      <th>4</th>\n",
       "      <td>17.0</td>\n",
       "      <td>8</td>\n",
       "      <td>302.0</td>\n",
       "      <td>140.0</td>\n",
       "      <td>3449.0</td>\n",
       "      <td>10.5</td>\n",
       "      <td>70</td>\n",
       "      <td>1</td>\n",
       "      <td>ford torino</td>\n",
       "    </tr>\n",
       "  </tbody>\n",
       "</table>\n",
       "</div>"
      ],
      "text/plain": [
       "    mpg  cylinders  displacement horsepower  weight  acceleration  year  \\\n",
       "0  18.0          8         307.0      130.0  3504.0          12.0    70   \n",
       "1  15.0          8         350.0      165.0  3693.0          11.5    70   \n",
       "2  18.0          8         318.0      150.0  3436.0          11.0    70   \n",
       "3  16.0          8         304.0      150.0  3433.0          12.0    70   \n",
       "4  17.0          8         302.0      140.0  3449.0          10.5    70   \n",
       "\n",
       "   origin                       name  \n",
       "0       1  chevrolet chevelle malibu  \n",
       "1       1          buick skylark 320  \n",
       "2       1         plymouth satellite  \n",
       "3       1              amc rebel sst  \n",
       "4       1                ford torino  "
      ]
     },
     "execution_count": 8,
     "metadata": {},
     "output_type": "execute_result"
    }
   ],
   "source": [
    "import pandas as pd\n",
    "\n",
    "column_names = ['mpg', 'cylinders', 'displacement',\n",
    "'horsepower','weight', 'acceleration', 'year', 'origin', 'name']\n",
    "\n",
    "dfp = pd.read_csv('cars.data', names = column_names, delim_whitespace=True)\n",
    "dfp.head()"
   ]
  },
  {
   "cell_type": "code",
   "execution_count": 9,
   "metadata": {},
   "outputs": [],
   "source": [
    "dfp.to_csv('cars_headers.csv')"
   ]
  },
  {
   "cell_type": "code",
   "execution_count": 10,
   "metadata": {},
   "outputs": [
    {
     "name": "stdout",
     "output_type": "stream",
     "text": [
      "+---+----+---------+------------+----------+------+------------+----+------+--------------------+\n",
      "|_c0| mpg|cylinders|displacement|horsepower|weight|acceleration|year|origin|                name|\n",
      "+---+----+---------+------------+----------+------+------------+----+------+--------------------+\n",
      "|  0|18.0|        8|       307.0|     130.0|3504.0|        12.0|  70|     1|chevrolet chevell...|\n",
      "|  1|15.0|        8|       350.0|     165.0|3693.0|        11.5|  70|     1|   buick skylark 320|\n",
      "|  2|18.0|        8|       318.0|     150.0|3436.0|        11.0|  70|     1|  plymouth satellite|\n",
      "|  3|16.0|        8|       304.0|     150.0|3433.0|        12.0|  70|     1|       amc rebel sst|\n",
      "|  4|17.0|        8|       302.0|     140.0|3449.0|        10.5|  70|     1|         ford torino|\n",
      "|  5|15.0|        8|       429.0|     198.0|4341.0|        10.0|  70|     1|    ford galaxie 500|\n",
      "|  6|14.0|        8|       454.0|     220.0|4354.0|         9.0|  70|     1|    chevrolet impala|\n",
      "|  7|14.0|        8|       440.0|     215.0|4312.0|         8.5|  70|     1|   plymouth fury iii|\n",
      "|  8|14.0|        8|       455.0|     225.0|4425.0|        10.0|  70|     1|    pontiac catalina|\n",
      "|  9|15.0|        8|       390.0|     190.0|3850.0|         8.5|  70|     1|  amc ambassador dpl|\n",
      "| 10|15.0|        8|       383.0|     170.0|3563.0|        10.0|  70|     1| dodge challenger se|\n",
      "| 11|14.0|        8|       340.0|     160.0|3609.0|         8.0|  70|     1|  plymouth 'cuda 340|\n",
      "| 12|15.0|        8|       400.0|     150.0|3761.0|         9.5|  70|     1|chevrolet monte c...|\n",
      "| 13|14.0|        8|       455.0|     225.0|3086.0|        10.0|  70|     1|buick estate wago...|\n",
      "| 14|24.0|        4|       113.0|     95.00|2372.0|        15.0|  70|     3|toyota corona mar...|\n",
      "| 15|22.0|        6|       198.0|     95.00|2833.0|        15.5|  70|     1|     plymouth duster|\n",
      "| 16|18.0|        6|       199.0|     97.00|2774.0|        15.5|  70|     1|          amc hornet|\n",
      "| 17|21.0|        6|       200.0|     85.00|2587.0|        16.0|  70|     1|       ford maverick|\n",
      "| 18|27.0|        4|        97.0|     88.00|2130.0|        14.5|  70|     3|        datsun pl510|\n",
      "| 19|26.0|        4|        97.0|     46.00|1835.0|        20.5|  70|     2|volkswagen 1131 d...|\n",
      "+---+----+---------+------------+----------+------+------------+----+------+--------------------+\n",
      "only showing top 20 rows\n",
      "\n"
     ]
    }
   ],
   "source": [
    "dfs = spark.read.csv('cars_headers.csv', header = True)\n",
    "dfs.show()"
   ]
  },
  {
   "cell_type": "code",
   "execution_count": 11,
   "metadata": {},
   "outputs": [],
   "source": [
    "# dfs.write.json('carsSPARK.json')"
   ]
  },
  {
   "cell_type": "code",
   "execution_count": 12,
   "metadata": {},
   "outputs": [],
   "source": [
    "dft=spark.read.json('carsSPARK.json')"
   ]
  },
  {
   "cell_type": "code",
   "execution_count": 13,
   "metadata": {},
   "outputs": [
    {
     "name": "stdout",
     "output_type": "stream",
     "text": [
      "+---+------------+---------+------------+----------+----+--------------------+------+------+----+\n",
      "|_c0|acceleration|cylinders|displacement|horsepower| mpg|                name|origin|weight|year|\n",
      "+---+------------+---------+------------+----------+----+--------------------+------+------+----+\n",
      "|  0|        12.0|        8|       307.0|     130.0|18.0|chevrolet chevell...|     1|3504.0|  70|\n",
      "|  1|        11.5|        8|       350.0|     165.0|15.0|   buick skylark 320|     1|3693.0|  70|\n",
      "|  2|        11.0|        8|       318.0|     150.0|18.0|  plymouth satellite|     1|3436.0|  70|\n",
      "|  3|        12.0|        8|       304.0|     150.0|16.0|       amc rebel sst|     1|3433.0|  70|\n",
      "|  4|        10.5|        8|       302.0|     140.0|17.0|         ford torino|     1|3449.0|  70|\n",
      "|  5|        10.0|        8|       429.0|     198.0|15.0|    ford galaxie 500|     1|4341.0|  70|\n",
      "|  6|         9.0|        8|       454.0|     220.0|14.0|    chevrolet impala|     1|4354.0|  70|\n",
      "|  7|         8.5|        8|       440.0|     215.0|14.0|   plymouth fury iii|     1|4312.0|  70|\n",
      "|  8|        10.0|        8|       455.0|     225.0|14.0|    pontiac catalina|     1|4425.0|  70|\n",
      "|  9|         8.5|        8|       390.0|     190.0|15.0|  amc ambassador dpl|     1|3850.0|  70|\n",
      "| 10|        10.0|        8|       383.0|     170.0|15.0| dodge challenger se|     1|3563.0|  70|\n",
      "| 11|         8.0|        8|       340.0|     160.0|14.0|  plymouth 'cuda 340|     1|3609.0|  70|\n",
      "| 12|         9.5|        8|       400.0|     150.0|15.0|chevrolet monte c...|     1|3761.0|  70|\n",
      "| 13|        10.0|        8|       455.0|     225.0|14.0|buick estate wago...|     1|3086.0|  70|\n",
      "| 14|        15.0|        4|       113.0|     95.00|24.0|toyota corona mar...|     3|2372.0|  70|\n",
      "| 15|        15.5|        6|       198.0|     95.00|22.0|     plymouth duster|     1|2833.0|  70|\n",
      "| 16|        15.5|        6|       199.0|     97.00|18.0|          amc hornet|     1|2774.0|  70|\n",
      "| 17|        16.0|        6|       200.0|     85.00|21.0|       ford maverick|     1|2587.0|  70|\n",
      "| 18|        14.5|        4|        97.0|     88.00|27.0|        datsun pl510|     3|2130.0|  70|\n",
      "| 19|        20.5|        4|        97.0|     46.00|26.0|volkswagen 1131 d...|     2|1835.0|  70|\n",
      "+---+------------+---------+------------+----------+----+--------------------+------+------+----+\n",
      "only showing top 20 rows\n",
      "\n"
     ]
    }
   ],
   "source": [
    "dft.show()"
   ]
  },
  {
   "cell_type": "code",
   "execution_count": 14,
   "metadata": {},
   "outputs": [],
   "source": [
    "# dft.write.parquet('dataFile', compression = 'snappy')"
   ]
  },
  {
   "cell_type": "code",
   "execution_count": 15,
   "metadata": {},
   "outputs": [
    {
     "name": "stdout",
     "output_type": "stream",
     "text": [
      "+---+------------+---------+------------+----------+----+--------------------+------+------+----+\n",
      "|_c0|acceleration|cylinders|displacement|horsepower| mpg|                name|origin|weight|year|\n",
      "+---+------------+---------+------------+----------+----+--------------------+------+------+----+\n",
      "|  0|        12.0|        8|       307.0|     130.0|18.0|chevrolet chevell...|     1|3504.0|  70|\n",
      "|  1|        11.5|        8|       350.0|     165.0|15.0|   buick skylark 320|     1|3693.0|  70|\n",
      "|  2|        11.0|        8|       318.0|     150.0|18.0|  plymouth satellite|     1|3436.0|  70|\n",
      "|  3|        12.0|        8|       304.0|     150.0|16.0|       amc rebel sst|     1|3433.0|  70|\n",
      "|  4|        10.5|        8|       302.0|     140.0|17.0|         ford torino|     1|3449.0|  70|\n",
      "|  5|        10.0|        8|       429.0|     198.0|15.0|    ford galaxie 500|     1|4341.0|  70|\n",
      "|  6|         9.0|        8|       454.0|     220.0|14.0|    chevrolet impala|     1|4354.0|  70|\n",
      "|  7|         8.5|        8|       440.0|     215.0|14.0|   plymouth fury iii|     1|4312.0|  70|\n",
      "|  8|        10.0|        8|       455.0|     225.0|14.0|    pontiac catalina|     1|4425.0|  70|\n",
      "|  9|         8.5|        8|       390.0|     190.0|15.0|  amc ambassador dpl|     1|3850.0|  70|\n",
      "| 10|        10.0|        8|       383.0|     170.0|15.0| dodge challenger se|     1|3563.0|  70|\n",
      "| 11|         8.0|        8|       340.0|     160.0|14.0|  plymouth 'cuda 340|     1|3609.0|  70|\n",
      "| 12|         9.5|        8|       400.0|     150.0|15.0|chevrolet monte c...|     1|3761.0|  70|\n",
      "| 13|        10.0|        8|       455.0|     225.0|14.0|buick estate wago...|     1|3086.0|  70|\n",
      "| 14|        15.0|        4|       113.0|     95.00|24.0|toyota corona mar...|     3|2372.0|  70|\n",
      "| 15|        15.5|        6|       198.0|     95.00|22.0|     plymouth duster|     1|2833.0|  70|\n",
      "| 16|        15.5|        6|       199.0|     97.00|18.0|          amc hornet|     1|2774.0|  70|\n",
      "| 17|        16.0|        6|       200.0|     85.00|21.0|       ford maverick|     1|2587.0|  70|\n",
      "| 18|        14.5|        4|        97.0|     88.00|27.0|        datsun pl510|     3|2130.0|  70|\n",
      "| 19|        20.5|        4|        97.0|     46.00|26.0|volkswagen 1131 d...|     2|1835.0|  70|\n",
      "+---+------------+---------+------------+----------+----+--------------------+------+------+----+\n",
      "only showing top 20 rows\n",
      "\n"
     ]
    }
   ],
   "source": [
    "dft1=spark.read.parquet('dataFile').show()"
   ]
  },
  {
   "cell_type": "code",
   "execution_count": 16,
   "metadata": {},
   "outputs": [],
   "source": [
    "# dft.write.parquet('dataFilePartitioned1',partitionBy=['year','cylinders'], compression = 'snappy')"
   ]
  },
  {
   "cell_type": "code",
   "execution_count": 17,
   "metadata": {},
   "outputs": [
    {
     "name": "stdout",
     "output_type": "stream",
     "text": [
      "+---+------------+------------+----------+----+--------------------+------+------+----+---------+\n",
      "|_c0|acceleration|displacement|horsepower| mpg|                name|origin|weight|year|cylinders|\n",
      "+---+------------+------------+----------+----+--------------------+------+------+----+---------+\n",
      "|367|        19.6|       112.0|     88.00|28.0|  chevrolet cavalier|     1|2605.0|  82|        4|\n",
      "|368|        18.6|       112.0|     88.00|27.0|chevrolet cavalie...|     1|2640.0|  82|        4|\n",
      "|369|        18.0|       112.0|     88.00|34.0|chevrolet cavalie...|     1|2395.0|  82|        4|\n",
      "|370|        16.2|       112.0|     85.00|31.0|pontiac j2000 se ...|     1|2575.0|  82|        4|\n",
      "|371|        16.0|       135.0|     84.00|29.0|      dodge aries se|     1|2525.0|  82|        4|\n",
      "|372|        18.0|       151.0|     90.00|27.0|     pontiac phoenix|     1|2735.0|  82|        4|\n",
      "|373|        16.4|       140.0|     92.00|24.0|ford fairmont futura|     1|2865.0|  82|        4|\n",
      "|374|        20.5|       151.0|         ?|23.0|      amc concord dl|     1|3035.0|  82|        4|\n",
      "|375|        15.3|       105.0|     74.00|36.0| volkswagen rabbit l|     2|1980.0|  82|        4|\n",
      "|376|        18.2|        91.0|     68.00|37.0|  mazda glc custom l|     3|2025.0|  82|        4|\n",
      "|377|        17.6|        91.0|     68.00|31.0|    mazda glc custom|     3|1970.0|  82|        4|\n",
      "|378|        14.7|       105.0|     63.00|38.0|plymouth horizon ...|     1|2125.0|  82|        4|\n",
      "|379|        17.3|        98.0|     70.00|36.0|      mercury lynx l|     1|2125.0|  82|        4|\n",
      "|380|        14.5|       120.0|     88.00|36.0|    nissan stanza xe|     3|2160.0|  82|        4|\n",
      "|381|        14.5|       107.0|     75.00|36.0|        honda accord|     3|2205.0|  82|        4|\n",
      "|382|        16.9|       108.0|     70.00|34.0|      toyota corolla|     3|2245.0|  82|        4|\n",
      "|383|        15.0|        91.0|     67.00|38.0|         honda civic|     3|1965.0|  82|        4|\n",
      "|384|        15.7|        91.0|     67.00|32.0|  honda civic (auto)|     3|1965.0|  82|        4|\n",
      "|385|        16.2|        91.0|     67.00|38.0|       datsun 310 gx|     3|1995.0|  82|        4|\n",
      "|388|        14.5|       156.0|     92.00|26.0|chrysler lebaron ...|     1|2585.0|  82|        4|\n",
      "+---+------------+------------+----------+----+--------------------+------+------+----+---------+\n",
      "only showing top 20 rows\n",
      "\n"
     ]
    }
   ],
   "source": [
    "dft2=spark.read.parquet('dataFilePartitioned1').show()"
   ]
  },
  {
   "cell_type": "code",
   "execution_count": 18,
   "metadata": {},
   "outputs": [],
   "source": [
    "df_rdd=spark.read.text(\"poem.txt\").rdd  # rdd = resilient distributed dataset API"
   ]
  },
  {
   "cell_type": "code",
   "execution_count": 19,
   "metadata": {},
   "outputs": [],
   "source": [
    "lines=df_rdd.map(lambda line: line[0])"
   ]
  },
  {
   "cell_type": "code",
   "execution_count": 20,
   "metadata": {},
   "outputs": [
    {
     "data": {
      "text/plain": [
       "['To be, or not to be, that is the question:',\n",
       " \"Whether 'tis nobler in the mind to suffer\",\n",
       " 'The slings and arrows of outrageous fortune,',\n",
       " 'Or to take arms against a sea of troubles',\n",
       " 'And by opposing end them. To die—to sleep,',\n",
       " 'No more; and by a sleep to say we end',\n",
       " 'The heart-ache and the thousand natural shocks',\n",
       " \"That flesh is heir to: 'tis a consummation\",\n",
       " \"Devoutly to be wish'd. To die, to sleep;\",\n",
       " \"To sleep, perchance to dream—ay, there's the rub:\",\n",
       " 'For in that sleep of death what dreams may come,',\n",
       " 'When we have shuffled off this mortal coil,',\n",
       " \"Must give us pause—there's the respect\",\n",
       " 'That makes calamity of so long life.']"
      ]
     },
     "execution_count": 20,
     "metadata": {},
     "output_type": "execute_result"
    }
   ],
   "source": [
    "lines.collect()"
   ]
  },
  {
   "cell_type": "code",
   "execution_count": 21,
   "metadata": {},
   "outputs": [
    {
     "data": {
      "text/plain": [
       "14"
      ]
     },
     "execution_count": 21,
     "metadata": {},
     "output_type": "execute_result"
    }
   ],
   "source": [
    "lines.count()"
   ]
  },
  {
   "cell_type": "code",
   "execution_count": 22,
   "metadata": {},
   "outputs": [],
   "source": [
    "splits=lines.flatMap(lambda x: x.split(' ')) # splitting each line into words"
   ]
  },
  {
   "cell_type": "code",
   "execution_count": 41,
   "metadata": {},
   "outputs": [],
   "source": [
    "lower_splits=splits.map(lambda x: x.lower())"
   ]
  },
  {
   "cell_type": "code",
   "execution_count": 42,
   "metadata": {},
   "outputs": [],
   "source": [
    "prep = ['the','a',',','.']"
   ]
  },
  {
   "cell_type": "code",
   "execution_count": 47,
   "metadata": {},
   "outputs": [
    {
     "data": {
      "text/plain": [
       "['to',\n",
       " 'be,',\n",
       " 'or',\n",
       " 'not',\n",
       " 'to',\n",
       " 'be,',\n",
       " 'that',\n",
       " 'is',\n",
       " 'question:',\n",
       " 'whether',\n",
       " \"'tis\",\n",
       " 'nobler',\n",
       " 'in',\n",
       " 'mind',\n",
       " 'to',\n",
       " 'suffer',\n",
       " 'slings',\n",
       " 'and',\n",
       " 'arrows',\n",
       " 'of',\n",
       " 'outrageous',\n",
       " 'fortune,',\n",
       " 'or',\n",
       " 'to',\n",
       " 'take',\n",
       " 'arms',\n",
       " 'against',\n",
       " 'sea',\n",
       " 'of',\n",
       " 'troubles',\n",
       " 'and',\n",
       " 'by',\n",
       " 'opposing',\n",
       " 'end',\n",
       " 'them.',\n",
       " 'to',\n",
       " 'die—to',\n",
       " 'sleep,',\n",
       " 'no',\n",
       " 'more;',\n",
       " 'and',\n",
       " 'by',\n",
       " 'sleep',\n",
       " 'to',\n",
       " 'say',\n",
       " 'we',\n",
       " 'end',\n",
       " 'heart-ache',\n",
       " 'and',\n",
       " 'thousand',\n",
       " 'natural',\n",
       " 'shocks',\n",
       " 'that',\n",
       " 'flesh',\n",
       " 'is',\n",
       " 'heir',\n",
       " 'to:',\n",
       " \"'tis\",\n",
       " 'consummation',\n",
       " 'devoutly',\n",
       " 'to',\n",
       " 'be',\n",
       " \"wish'd.\",\n",
       " 'to',\n",
       " 'die,',\n",
       " 'to',\n",
       " 'sleep;',\n",
       " 'to',\n",
       " 'sleep,',\n",
       " 'perchance',\n",
       " 'to',\n",
       " 'dream—ay,',\n",
       " \"there's\",\n",
       " 'rub:',\n",
       " 'for',\n",
       " 'in',\n",
       " 'that',\n",
       " 'sleep',\n",
       " 'of',\n",
       " 'death',\n",
       " 'what',\n",
       " 'dreams',\n",
       " 'may',\n",
       " 'come,',\n",
       " 'when',\n",
       " 'we',\n",
       " 'have',\n",
       " 'shuffled',\n",
       " 'off',\n",
       " 'this',\n",
       " 'mortal',\n",
       " 'coil,',\n",
       " 'must',\n",
       " 'give',\n",
       " 'us',\n",
       " \"pause—there's\",\n",
       " 'respect',\n",
       " 'that',\n",
       " 'makes',\n",
       " 'calamity',\n",
       " 'of',\n",
       " 'so',\n",
       " 'long',\n",
       " 'life.']"
      ]
     },
     "execution_count": 47,
     "metadata": {},
     "output_type": "execute_result"
    }
   ],
   "source": [
    "tokens = lower_splits.filter(lambda x: x and x not in prep)\n",
    "tokens.collect()"
   ]
  },
  {
   "cell_type": "code",
   "execution_count": 44,
   "metadata": {},
   "outputs": [],
   "source": [
    "token_list=tokens.map(lambda x: [x,1]) # mapping the token to a list"
   ]
  },
  {
   "cell_type": "code",
   "execution_count": 45,
   "metadata": {},
   "outputs": [],
   "source": [
    "from operator import add"
   ]
  },
  {
   "cell_type": "code",
   "execution_count": 46,
   "metadata": {},
   "outputs": [
    {
     "data": {
      "text/plain": [
       "[('to', 11),\n",
       " ('that', 4),\n",
       " ('and', 4),\n",
       " ('of', 4),\n",
       " ('be,', 2),\n",
       " ('or', 2),\n",
       " ('is', 2),\n",
       " (\"'tis\", 2),\n",
       " ('in', 2),\n",
       " ('by', 2),\n",
       " ('end', 2),\n",
       " ('sleep,', 2),\n",
       " ('sleep', 2),\n",
       " ('we', 2),\n",
       " ('not', 1),\n",
       " ('question:', 1),\n",
       " ('whether', 1),\n",
       " ('nobler', 1),\n",
       " ('mind', 1),\n",
       " ('suffer', 1),\n",
       " ('slings', 1),\n",
       " ('arrows', 1),\n",
       " ('outrageous', 1),\n",
       " ('fortune,', 1),\n",
       " ('take', 1),\n",
       " ('arms', 1),\n",
       " ('against', 1),\n",
       " ('sea', 1),\n",
       " ('troubles', 1),\n",
       " ('opposing', 1),\n",
       " ('them.', 1),\n",
       " ('die—to', 1),\n",
       " ('no', 1),\n",
       " ('more;', 1),\n",
       " ('say', 1),\n",
       " ('heart-ache', 1),\n",
       " ('thousand', 1),\n",
       " ('natural', 1),\n",
       " ('shocks', 1),\n",
       " ('flesh', 1),\n",
       " ('heir', 1),\n",
       " ('to:', 1),\n",
       " ('consummation', 1),\n",
       " ('devoutly', 1),\n",
       " ('be', 1),\n",
       " (\"wish'd.\", 1),\n",
       " ('die,', 1),\n",
       " ('sleep;', 1),\n",
       " ('perchance', 1),\n",
       " ('dream—ay,', 1),\n",
       " (\"there's\", 1),\n",
       " ('rub:', 1),\n",
       " ('for', 1),\n",
       " ('death', 1),\n",
       " ('what', 1),\n",
       " ('dreams', 1),\n",
       " ('may', 1),\n",
       " ('come,', 1),\n",
       " ('when', 1),\n",
       " ('have', 1),\n",
       " ('shuffled', 1),\n",
       " ('off', 1),\n",
       " ('this', 1),\n",
       " ('mortal', 1),\n",
       " ('coil,', 1),\n",
       " ('must', 1),\n",
       " ('give', 1),\n",
       " ('us', 1),\n",
       " (\"pause—there's\", 1),\n",
       " ('respect', 1),\n",
       " ('makes', 1),\n",
       " ('calamity', 1),\n",
       " ('so', 1),\n",
       " ('long', 1),\n",
       " ('life.', 1)]"
      ]
     },
     "execution_count": 46,
     "metadata": {},
     "output_type": "execute_result"
    }
   ],
   "source": [
    "countWords=token_list.reduceByKey(add).sortBy(lambda x: x[1], ascending=False)\n",
    "countWords.collect()"
   ]
  },
  {
   "cell_type": "code",
   "execution_count": null,
   "metadata": {},
   "outputs": [],
   "source": []
  },
  {
   "cell_type": "code",
   "execution_count": null,
   "metadata": {},
   "outputs": [],
   "source": []
  }
 ],
 "metadata": {
  "kernelspec": {
   "display_name": "Python 3",
   "language": "python",
   "name": "python3"
  },
  "language_info": {
   "codemirror_mode": {
    "name": "ipython",
    "version": 3
   },
   "file_extension": ".py",
   "mimetype": "text/x-python",
   "name": "python",
   "nbconvert_exporter": "python",
   "pygments_lexer": "ipython3",
   "version": "3.7.6"
  }
 },
 "nbformat": 4,
 "nbformat_minor": 4
}
