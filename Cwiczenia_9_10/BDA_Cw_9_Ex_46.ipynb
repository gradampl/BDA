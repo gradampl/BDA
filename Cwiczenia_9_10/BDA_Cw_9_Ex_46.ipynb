{
 "cells": [
  {
   "cell_type": "markdown",
   "metadata": {},
   "source": [
    "$\\large{\\textbf{Excercise 46: Missing Value Preprocessing with High Reproducibility}}$\n",
    "\n",
    "Let's say we want to investigate how missing values affect the results of the analysis of a given data\n",
    "set. The assumption is that having a ready set without missing values, we want to analyze it and\n",
    "compare it with the version with missing values. We need a mechanism that will allow us to\n",
    "randomly remove data from the set. Since we want to repeat the experiment many times, this\n",
    "operation should be repeatable. We should ensure repeatability in the most convenient way possible.\n",
    "In this exercise, you create a repeating mechanism to randomly remove values from a set and\n",
    "perform Interquartile Ranges (IQRs) outliers lookup analysis.\n",
    "\n",
    "$\\textbf{Measuring of statistical dispersionu using Interquartile Range}$\n",
    "\n",
    "In descriptive statistics, the interquartile range (IQR), also called the midspread, middle 50%,\n",
    "or H-spread, is a measure of statistical dispersion, being equal to the difference between 75th and\n",
    "25th percentiles, or between upper and lower quartiles, IQR = Q3 − Q1. In other words, the IQR is\n",
    "the first quartile subtracted from the third quartile; these quartiles can be clearly seen on a box plot\n",
    "on the data. It is a trimmed estimator, defined as the 25% trimmed range, and is a commonly used\n",
    "robust measure of scale.\n",
    "\n",
    "The $\\textbf{IQR}$ is a measure of variability, based on dividing a data set into quartiles. Quartiles divide\n",
    "a rank-ordered data set into four equal parts. The values that separate parts are called the first,\n",
    "second, and third quartiles; and they are denoted by Q1, Q2, and Q3, respectively.\n",
    "\n",
    "$\\textbf{Algorithm}$\n",
    "\n",
    "The IQR of a set of values is calculated as the difference between the upper and lower quartiles,\n",
    "Q3 and Q1. Each quartile is a median calculated as follows.\n",
    "Given an even 2n or odd 2n+1 number of values\n",
    "first quartile Q1 = median of the n smallest values\n",
    "third quartile Q3 = median of the n largest values\n",
    "The second quartile Q2 is the same as the ordinary median."
   ]
  },
  {
   "cell_type": "code",
   "execution_count": 2,
   "metadata": {},
   "outputs": [],
   "source": [
    "import numpy as np\n",
    "import pandas as pd\n",
    "import seaborn as sns\n",
    "import time\n",
    "import re\n",
    "import os"
   ]
  },
  {
   "cell_type": "code",
   "execution_count": 3,
   "metadata": {},
   "outputs": [],
   "source": [
    "# 1. Use the same dataset as in the previous excercise.\n",
    "\n",
    "df = pd.read_csv('bank.csv', sep=';')"
   ]
  },
  {
   "cell_type": "markdown",
   "metadata": {},
   "source": [
    "2. Create your own algorithm generating missing values in the dataframe. The algorithm's\n",
    "assumptions are as follows:\n",
    "\n",
    "a. Replace the existing value with numpy.nan\n",
    "\n",
    "b. Numpy.nan should be put in a random row and column\n",
    "\n",
    "c. The number of random values to be inserted should be 10% of the number of all single tuples in the set. For the bank.csv file, the number of all tuples is 76,857."
   ]
  },
  {
   "cell_type": "code",
   "execution_count": null,
   "metadata": {},
   "outputs": [],
   "source": []
  }
 ],
 "metadata": {
  "kernelspec": {
   "display_name": "Python 3",
   "language": "python",
   "name": "python3"
  },
  "language_info": {
   "codemirror_mode": {
    "name": "ipython",
    "version": 3
   },
   "file_extension": ".py",
   "mimetype": "text/x-python",
   "name": "python",
   "nbconvert_exporter": "python",
   "pygments_lexer": "ipython3",
   "version": "3.8.5"
  }
 },
 "nbformat": 4,
 "nbformat_minor": 4
}
