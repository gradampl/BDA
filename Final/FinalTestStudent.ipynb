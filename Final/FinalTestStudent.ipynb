{
 "cells": [
  {
   "cell_type": "markdown",
   "metadata": {},
   "source": [
    "<H1>Big Data Analysis Final Test</H1>\n",
    "<p>Winter semester 2020/2021<br>\n",
    "    Date: 22.01.2021\n",
    "</p>"
   ]
  },
  {
   "cell_type": "markdown",
   "metadata": {},
   "source": [
    "<H3>Student:</H3>\n",
    "<p>Adam Grabowski</p>"
   ]
  },
  {
   "cell_type": "markdown",
   "metadata": {},
   "source": [
    "<h5>1. Create a small sample DataFrame by manually specifying the schema and entering data in Spark. It should contain 5 rows and 3 columns. At least one column should be of type String and one numeric. Column names and entered values are of your choice.</h5>"
   ]
  },
  {
   "cell_type": "code",
   "execution_count": 5,
   "metadata": {},
   "outputs": [],
   "source": [
    "# from pyspark.sql import SparkSession\n",
    "# spark = SparkSession.builder.appName(\"Python Spark Session\").getOrCreate()\n",
    "\n",
    "# from pyspark import SparkContext\n",
    "# sc=SparkContext()\n",
    "# from pyspark.sql import SQLContext\n",
    "# sqlc = SQLContext(sc)\n",
    "\n",
    "# from pyspark.sql import *\n",
    "# na_schema = Row(\"Name\",\"Phone number\")\n",
    "# row1 = na_schema(\"Ania\", 5232330)\n",
    "# row2 = na_schema(\"Gosia\", 5232331)\n",
    "# row3 = na_schema(\"Hania\", 5232332)\n",
    "# row4 = na_schema(\"Monia\", 5232333)\n",
    "# row5 = na_schema(\"Ela\", 5232334)\n",
    "\n",
    "# na_list = [row1, row2, row3, row4, row5]\n",
    "# df_na = sqlc.createDataFrame(na_list)\n",
    "\n",
    "# pyspark.sql.dataframe.DataFrame\n",
    "# df_na.show()"
   ]
  },
  {
   "cell_type": "markdown",
   "metadata": {},
   "source": [
    "<h5>2. Create Pandas DataFrame from file: \"sample_data.csv\" containing data from weather station.<br> \n",
    "    a) Find high correlated variables and draw their linear regression model graphs.<br>\n",
    "    b) Put titles on the charts containing correlation value they illustrate.\n",
    "</h5>"
   ]
  },
  {
   "cell_type": "code",
   "execution_count": 2,
   "metadata": {},
   "outputs": [
    {
     "name": "stdout",
     "output_type": "stream",
     "text": [
      "Maximum Correlation possible for each column:  [0.8  0.8  0.43 0.66 0.16 0.18]\n",
      "Correlation matrix\n",
      "\n",
      "                Temperature  Humidity  WindSpeed  SolarRadiation      Rain  \\\n",
      "Temperature        1.000000 -0.802544   0.354068        0.606324 -0.033953   \n",
      "Humidity          -0.802544  1.000000  -0.426044       -0.656043  0.120843   \n",
      "WindSpeed          0.354068 -0.426044   1.000000        0.423331  0.112827   \n",
      "SolarRadiation     0.606324 -0.656043   0.423331        1.000000 -0.090909   \n",
      "Rain              -0.033953  0.120843   0.112827       -0.090909  1.000000   \n",
      "Pressure          -0.142875 -0.123636  -0.182511        0.121880 -0.157731   \n",
      "\n",
      "                Pressure  \n",
      "Temperature    -0.142875  \n",
      "Humidity       -0.123636  \n",
      "WindSpeed      -0.182511  \n",
      "SolarRadiation  0.121880  \n",
      "Rain           -0.157731  \n",
      "Pressure        1.000000   \n",
      "\n",
      "\n"
     ]
    },
    {
     "data": {
      "text/plain": [
       "[<matplotlib.lines.Line2D at 0x7f75b5932700>]"
      ]
     },
     "execution_count": 2,
     "metadata": {},
     "output_type": "execute_result"
    },
    {
     "data": {
      "image/png": "[encoded data removed]",
      "text/plain": [
       "<Figure size 432x288 with 1 Axes>"
      ]
     },
     "metadata": {
      "needs_background": "light"
     },
     "output_type": "display_data"
    }
   ],
   "source": [
    "import numpy as np\n",
    "import pandas as pd\n",
    "import matplotlib.pyplot as plt\n",
    "from sklearn.linear_model import LinearRegression\n",
    "\n",
    "df=pd.read_csv(\"sample_data.csv\")\n",
    "\n",
    "abs_corrmat = np.abs(df.corr())\n",
    "max_corr = abs_corrmat.apply(lambda x: sorted(x)[-2])\n",
    "print('Maximum Correlation possible for each column: ', np.round(max_corr.tolist(), 2))\n",
    "\n",
    "print(\"Correlation matrix\\n\")\n",
    "print(df.corr(method ='pearson'),'\\n\\n')\n",
    "\n",
    "X = df.iloc[:,1].values.reshape(-1,1) # 2nd column = Temperature\n",
    "Y = df.iloc[:,2].values.reshape(-1,1) # 3rd column = Humidity\n",
    "\n",
    "lr = LinearRegression()\n",
    "lr.fit(X,Y)\n",
    "\n",
    "Y_predicted = lr.predict(X)\n",
    "\n",
    "fig,ax = plt.subplots()\n",
    "ax.set(title = \"Regression line (green) and the correlation (-0,80): Temperature and Humidity\",xlabel = \"Temperature\",ylabel = \"Humidity\")\n",
    "ax.scatter(X,Y)\n",
    "ax.plot(X,Y_predicted, color = 'green')\n"
   ]
  },
  {
   "cell_type": "markdown",
   "metadata": {},
   "source": [
    "<h5>3. Use DatFrame created from file: \"sample_data.csv\". <br>\n",
    "a) Calculate daily mean temperature (for each day in whole dataset), show the result in tabular form. <br>\n",
    "    b) Draw bar graph showing daily mean temperature.\n",
    "</h5>"
   ]
  },
  {
   "cell_type": "code",
   "execution_count": 3,
   "metadata": {},
   "outputs": [
    {
     "data": {
      "image/png": "[encoded data removed]",
      "text/plain": [
       "<Figure size 432x288 with 1 Axes>"
      ]
     },
     "metadata": {
      "needs_background": "light"
     },
     "output_type": "display_data"
    }
   ],
   "source": [
    "df.groupby('DateTime')['Temperature'].mean().head()\n",
    "\n",
    "df1 = df.groupby('DateTime')['Temperature'].mean()\n",
    "\n",
    "ax = df1.plot.bar(x='DateTime', y='Temperature', rot=0)"
   ]
  },
  {
   "cell_type": "markdown",
   "metadata": {},
   "source": [
    "<h5>4. Using Use DatFrame created from file: \"sample_data.csv\", find out:<br>\n",
    "    a) What is the total rainfall in August?<br>\n",
    "    b) How many rainy days were in August?<br>\n",
    "    c) How many rainy nights were in August?<br>\n",
    "    d) Which day did the rain fall the longest (in August)?<br>\n",
    "</h5>"
   ]
  },
  {
   "cell_type": "code",
   "execution_count": 4,
   "metadata": {},
   "outputs": [
    {
     "name": "stdout",
     "output_type": "stream",
     "text": [
      "69.6\n"
     ]
    },
    {
     "name": "stderr",
     "output_type": "stream",
     "text": [
      "<ipython-input-4-7fb06e4df161>:2: UserWarning: Pandas doesn't allow columns to be created via a new attribute name - see https://pandas.pydata.org/pandas-docs/stable/indexing.html#attribute-access\n",
      "  df.Month = df.DateTime.dt.month_name()\n"
     ]
    }
   ],
   "source": [
    "df.DateTime = pd.to_datetime(df.DateTime)\n",
    "df.Month = df.DateTime.dt.month_name()\n",
    "\n",
    "august = df[df.Month == 'August']\n",
    "august_rain = august['Rain'].sum()\n",
    "print(august_rain)\n",
    "\n",
    "# rainy_days = df[('Month' == 'August') & ('Rain' != str(0.0))].value_counts()\n",
    "# print(rainy_days)\n",
    "# df.head()"
   ]
  },
  {
   "cell_type": "markdown",
   "metadata": {},
   "source": [
    "<h5>5. Assume, that as part of the study, canopy reflection coefficient (CRC) measurements were performed. The results were recorded every ten days and they are presented in the table below. Associate the data from the table with the data from the weather station (sample_data.csv) so that each record gets the corresponding CRC value depending on the decade. Decades should be set, counting days as follows: first decade: 1st-10th day of month, second: 11th-20th, third: 21st-month end (or data end). Wherever data is missing, the default value CRC = 0.23 should be entered.</h5>\n",
    "<table class=\"dataframe\" border=\"1\">\n",
    "  <thead>\n",
    "    <tr style=\"text-align: right;\">\n",
    "      <th>Month</th>\n",
    "      <th>Decade</th>\n",
    "      <th>CRC</th>\n",
    "    </tr>\n",
    "  </thead>\n",
    "  <tbody>\n",
    "    <tr>\n",
    "        <th>7</th>\n",
    "      <td>1</td>\n",
    "      <td>1.2</td>\n",
    "    </tr>\n",
    "    <tr>\n",
    "      <th>7</th>\n",
    "      <td>2</td>\n",
    "      <td>1.1</td>\n",
    "    </tr>\n",
    "    <tr>\n",
    "      <th>7</th>\n",
    "      <td>3</td>\n",
    "      <td>1.0</td>\n",
    "    </tr>\n",
    "    <tr>\n",
    "      <th>8</th>\n",
    "      <td>1</td>\n",
    "      <td>0.8</td>\n",
    "    </tr>\n",
    "    <tr>\n",
    "      <th>8</th>\n",
    "      <td>2</td>\n",
    "      <td>0.6</td>\n",
    "    </tr>\n",
    "    <tr>\n",
    "      <th>8</th>\n",
    "      <td>3</td>\n",
    "      <td>0.7</td>\n",
    "    </tr>\n",
    "\n",
    "  </tbody>\n",
    "</table>\n",
    "You should get the result similar to:<table class=\"dataframe\" border=\"1\">\n",
    "<thead>\n",
    "    <tr style=\"text-align: right;\">\n",
    "        <th></th>\n",
    "<th>CRC</th>\n",
    "        <th>DateTime</th>\n",
    "        <th>Temperature</th>\n",
    "<th>Humidity</th>\n",
    "        <th>WindSpeed</th>\n",
    "        <th>SolarRadiation</th>\n",
    "<th>Rain</th>\n",
    "        <th>Pressure</th>\n",
    "    </tr>\n",
    "    </thead>\n",
    "    <tbody>\n",
    "        <tr>\n",
    "<th>0</th>\n",
    "            <td>1.20</td>\n",
    "            <td>2020-07-07 00:00:00</td>\n",
    "<td>15.866667</td>\n",
    "            <td>87.666667</td>\n",
    "            <td>6.666667</td>\n",
    "            <td>0</td>\n",
    "            <td>0.0</td>\n",
    "<td>1002.400000</td>\n",
    "        </tr>\n",
    "        <tr>\n",
    "            <th>1</th>\n",
    "            <td>1.20</td>\n",
    "            <td>2020-07-07 00:30:00</td>\n",
    "            <td>15.800000</td>\n",
    "            <td>82.333333</td>\n",
    "            <td>5.333333</td>\n",
    "            <td>0</td>\n",
    "            <td>0.0</td>\n",
    "            <td>1002.400000</td>\n",
    "        </tr>\n",
    "        <tr>\n",
    "            <th>2</th>\n",
    "            <td>1.20</td>\n",
    "<td>2020-07-07 01:00:00</td>\n",
    "<td>15.066667</td>\n",
    "<td>82.666667</td>\n",
    "<td>3.333333</td>\n",
    "<td>0</td>\n",
    "<td>0.0</td>\n",
    "<td>1001.633333</td>\n",
    "</tr>\n",
    "<tr>\n",
    "<th>3</th>\n",
    "<td>1.20</td>\n",
    "<td>2020-07-07 01:30:00</td>\n",
    "<td>15.000000</td>\n",
    "<td>81.000000</td>\n",
    "<td>6.000000</td>\n",
    "<td>0</td>\n",
    "<td>0.0</td>\n",
    "<td>1002.133333</td>\n",
    "</tr>\n",
    "<tr>\n",
    "<th>4</th>\n",
    "<td>...</td>\n",
    "<td>...</td>\n",
    "<td>...</td>\n",
    "<td>...</td>\n",
    "<td>...</td>\n",
    "<td>...</td>\n",
    "<td>...</td>\n",
    "<td>...</td>\n",
    "</tr>\n",
    "</tbody>\n",
    "</table>"
   ]
  },
  {
   "cell_type": "code",
   "execution_count": null,
   "metadata": {},
   "outputs": [],
   "source": []
  }
 ],
 "metadata": {
  "kernelspec": {
   "display_name": "Python 3",
   "language": "python",
   "name": "python3"
  },
  "language_info": {
   "codemirror_mode": {
    "name": "ipython",
    "version": 3
   },
   "file_extension": ".py",
   "mimetype": "text/x-python",
   "name": "python",
   "nbconvert_exporter": "python",
   "pygments_lexer": "ipython3",
   "version": "3.8.5"
  }
 },
 "nbformat": 4,
 "nbformat_minor": 4
}
